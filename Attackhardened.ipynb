{
 "cells": [
  {
   "cell_type": "code",
   "execution_count": 1,
   "id": "bdd8cbad-4aba-4f8b-8816-dd4ea995f9aa",
   "metadata": {
    "tags": []
   },
   "outputs": [],
   "source": [
    "import numpy as np\n",
    "from art.attacks.evasion import FastGradientMethod, ProjectedGradientDescent, CarliniL2Method\n",
    "from art.utils import to_categorical\n",
    "from art.estimators.classification import KerasClassifier\n",
    "from tensorflow.keras.models import load_model\n",
    "import tensorflow as tf\n",
    "tf.compat.v1.disable_eager_execution()"
   ]
  },
  {
   "cell_type": "code",
   "execution_count": 2,
   "id": "71983e6b-a48f-4f70-a727-9bfb1aabf7c6",
   "metadata": {},
   "outputs": [
    {
     "name": "stdout",
     "output_type": "stream",
     "text": [
      "Checking suit directory: c:\\Users\\alec\\OneDrive - University of North Georgia\\FALL 2023\\Cyber capstone\\Experimentation\\SortedData\\train\\hearts\n",
      "Label index for hearts: 0\n",
      "Checking suit directory: c:\\Users\\alec\\OneDrive - University of North Georgia\\FALL 2023\\Cyber capstone\\Experimentation\\SortedData\\train\\diamonds\n",
      "Label index for diamonds: 1\n",
      "Checking suit directory: c:\\Users\\alec\\OneDrive - University of North Georgia\\FALL 2023\\Cyber capstone\\Experimentation\\SortedData\\train\\clubs\n",
      "Label index for clubs: 2\n",
      "Checking suit directory: c:\\Users\\alec\\OneDrive - University of North Georgia\\FALL 2023\\Cyber capstone\\Experimentation\\SortedData\\train\\spades\n",
      "Label index for spades: 3\n",
      "[0 2 3 0 2 1 0 2 3 1 0 2 0 1 1 1 0 2 0 1 1 3 3 0 0 1 2 1 1 1 3 3 3 0 3 1 2\n",
      " 2 0 3 1 0 3 0 0 0 2 1 1 2 3 2 1 0 3 2 2 1 2 1 3 1 1 0 1 2 0 0 3 1 1 1 0 2\n",
      " 3 0 1 1 3 2 0 0 2 2 1 1 0 1 0 1 2 3 0 2 1 1 2 0 3 3]\n",
      "Checking suit directory: c:\\Users\\alec\\OneDrive - University of North Georgia\\FALL 2023\\Cyber capstone\\Experimentation\\SortedData\\valid\\hearts\n",
      "Label index for hearts: 0\n",
      "Checking suit directory: c:\\Users\\alec\\OneDrive - University of North Georgia\\FALL 2023\\Cyber capstone\\Experimentation\\SortedData\\valid\\diamonds\n",
      "Label index for diamonds: 1\n",
      "Checking suit directory: c:\\Users\\alec\\OneDrive - University of North Georgia\\FALL 2023\\Cyber capstone\\Experimentation\\SortedData\\valid\\clubs\n",
      "Label index for clubs: 2\n",
      "Checking suit directory: c:\\Users\\alec\\OneDrive - University of North Georgia\\FALL 2023\\Cyber capstone\\Experimentation\\SortedData\\valid\\spades\n",
      "Label index for spades: 3\n",
      "[0 0 2 3 3 3 2 1 0 0 1 0 0 1 2 0 3 1 0 1 1 0 0 3 2 0 2 2 3 2 3 1 3 2 0 3 3\n",
      " 0 2 1 1 1 3 2 2 0 1 2 1 1 2 0 0 2 1 0 0 1 2 1 1 1 0 2 2 2 3 2 1 0 2 2 0 2\n",
      " 2 3 0 2 1 0 0 2 3 1 2 2 2 1 3 0 3 2 2 3 3 0 0 0 2 3]\n",
      "Checking suit directory: c:\\Users\\alec\\OneDrive - University of North Georgia\\FALL 2023\\Cyber capstone\\Experimentation\\SortedData\\test\\hearts\n",
      "Label index for hearts: 0\n",
      "Checking suit directory: c:\\Users\\alec\\OneDrive - University of North Georgia\\FALL 2023\\Cyber capstone\\Experimentation\\SortedData\\test\\diamonds\n",
      "Label index for diamonds: 1\n",
      "Checking suit directory: c:\\Users\\alec\\OneDrive - University of North Georgia\\FALL 2023\\Cyber capstone\\Experimentation\\SortedData\\test\\clubs\n",
      "Label index for clubs: 2\n",
      "Checking suit directory: c:\\Users\\alec\\OneDrive - University of North Georgia\\FALL 2023\\Cyber capstone\\Experimentation\\SortedData\\test\\spades\n",
      "Label index for spades: 3\n",
      "[0 0 3 0 0 2 3 0 1 3 3 0 2 2 0 3 0 2 1 1 2 3 1 2 2 3 0 2 3 0 3 0 3 2 0 0 3\n",
      " 1 1 3 1 1 1 0 3 0 3 0 0 0 3 1 2 0 0 1 1 1 0 0 3 0 3 1 1 3 1 3 0 1 2 2 3 0\n",
      " 2 2 0 3 3 1 1 3 1 1 2 0 2 3 0 1 0 1 2 0 2 1 2 2 0 2]\n",
      "(7509, 224, 224, 3) (7509,)\n",
      "(260, 224, 224, 3) (260,)\n",
      "(260, 224, 224, 3) (260,)\n",
      "{'hearts': 0, 'diamonds': 1, 'clubs': 2, 'spades': 3}\n"
     ]
    }
   ],
   "source": [
    "# Load the dataset to allow for adversarial attacks\n",
    "# CHANGE USERNAME WHEN WORKING BETWEEN LAPTOP AND DESKTOP!!\n",
    "\n",
    "import os\n",
    "import numpy as np\n",
    "from PIL import Image\n",
    "from tensorflow.keras.preprocessing.image import load_img, img_to_array\n",
    "\n",
    "def load_dataset(base_dir, target_size=(224, 224)):\n",
    "    images = []\n",
    "    labels = []\n",
    "    class_labels = {'hearts': 0, 'diamonds': 1, 'clubs': 2, 'spades': 3}\n",
    "    \n",
    "    # Navigate through each suit folder\n",
    "    for suit in class_labels.keys():\n",
    "        suit_dir = os.path.join(base_dir, suit)\n",
    "        print(f\"Checking suit directory: {suit_dir}\")  # Debug print\n",
    "        if os.path.isdir(suit_dir):\n",
    "            label_index = class_labels[suit]\n",
    "            print(f\"Label index for {suit}: {label_index}\")  # Debug print\n",
    "\n",
    "            # Navigate through each card folder within the suit folder\n",
    "            for card_folder in os.listdir(suit_dir):\n",
    "                card_folder_path = os.path.join(suit_dir, card_folder)\n",
    "                #print(f\"Checking card folder: {card_folder_path}\")  # Add this debug print\n",
    "                if os.path.isdir(card_folder_path):\n",
    "                    # Load each image from the card folder\n",
    "                    for image_file in os.listdir(card_folder_path):\n",
    "                        image_path = os.path.join(card_folder_path, image_file)\n",
    "                        image = load_img(image_path, target_size=target_size)\n",
    "                        #print(f\"Loading image: {image_path}\")  # Debug print\n",
    "                        image_array = img_to_array(image)\n",
    "                        images.append(image_array)\n",
    "                        labels.append(label_index)\n",
    "    \n",
    "    # After loading all images and labels, shuffle them\n",
    "    combined = list(zip(images, labels))\n",
    "    np.random.shuffle(combined)\n",
    "\n",
    "    images[:], labels[:] = zip(*combined)                    \n",
    "    \n",
    "    images = np.array(images, dtype='float32') / 255.0  # Normalize to [0, 1]\n",
    "    labels = np.array(labels, dtype='int32')\n",
    "    \n",
    "    # Print some of the labels to verify they are correct\n",
    "    print(labels[:100])\n",
    "    \n",
    "    return images, labels, class_labels\n",
    "\n",
    "# Directory Definitions\n",
    "base_dir = \"c:\\\\Users\\\\alec\\\\OneDrive - University of North Georgia\\\\FALL 2023\\\\Cyber capstone\\\\Experimentation\\\\SortedData\"\n",
    "train_dir = os.path.join(base_dir, 'train')\n",
    "validation_dir = os.path.join(base_dir, 'valid')\n",
    "test_dir = os.path.join(base_dir, 'test')\n",
    "\n",
    "# Usage\n",
    "train_images, train_labels, train_class_labels = load_dataset(train_dir)\n",
    "valid_images, valid_labels, valid_class_labels = load_dataset(validation_dir)\n",
    "test_images, test_labels, test_class_labels = load_dataset(test_dir)\n",
    "\n",
    "# Check shapes and class labels\n",
    "print(train_images.shape, train_labels.shape)\n",
    "print(valid_images.shape, valid_labels.shape)\n",
    "print(test_images.shape, test_labels.shape)\n",
    "print(train_class_labels)"
   ]
  },
  {
   "cell_type": "code",
   "execution_count": 3,
   "id": "c0ba610d-78ca-4888-a67c-b071a27ee756",
   "metadata": {
    "tags": []
   },
   "outputs": [
    {
     "name": "stdout",
     "output_type": "stream",
     "text": [
      "Model: \"sequential\"\n",
      "_________________________________________________________________\n",
      " Layer (type)                Output Shape              Param #   \n",
      "=================================================================\n",
      " separable_conv2d (Separabl  (None, 224, 224, 64)      283       \n",
      " eConv2D)                                                        \n",
      "                                                                 \n",
      " max_pooling2d (MaxPooling2  (None, 112, 112, 64)      0         \n",
      " D)                                                              \n",
      "                                                                 \n",
      " dropout (Dropout)           (None, 112, 112, 64)      0         \n",
      "                                                                 \n",
      " separable_conv2d_1 (Separa  (None, 112, 112, 128)     8896      \n",
      " bleConv2D)                                                      \n",
      "                                                                 \n",
      " max_pooling2d_1 (MaxPoolin  (None, 56, 56, 128)       0         \n",
      " g2D)                                                            \n",
      "                                                                 \n",
      " dropout_1 (Dropout)         (None, 56, 56, 128)       0         \n",
      "                                                                 \n",
      " separable_conv2d_2 (Separa  (None, 56, 56, 256)       34176     \n",
      " bleConv2D)                                                      \n",
      "                                                                 \n",
      " max_pooling2d_2 (MaxPoolin  (None, 28, 28, 256)       0         \n",
      " g2D)                                                            \n",
      "                                                                 \n",
      " dropout_2 (Dropout)         (None, 28, 28, 256)       0         \n",
      "                                                                 \n",
      " flatten (Flatten)           (None, 200704)            0         \n",
      "                                                                 \n",
      " dense (Dense)               (None, 256)               51380480  \n",
      "                                                                 \n",
      " dropout_3 (Dropout)         (None, 256)               0         \n",
      "                                                                 \n",
      " dense_1 (Dense)             (None, 4)                 1028      \n",
      "                                                                 \n",
      "=================================================================\n",
      "Total params: 51424863 (196.17 MB)\n",
      "Trainable params: 51424863 (196.17 MB)\n",
      "Non-trainable params: 0 (0.00 Byte)\n",
      "_________________________________________________________________\n"
     ]
    }
   ],
   "source": [
    "# Load pretrained model\n",
    "model = load_model('PlayingCardHardened.h5')\n",
    "\n",
    "model.summary()"
   ]
  },
  {
   "cell_type": "code",
   "execution_count": 4,
   "id": "44d40805-b554-4621-a565-1b66166e3d35",
   "metadata": {},
   "outputs": [
    {
     "name": "stderr",
     "output_type": "stream",
     "text": [
      "C:\\Users\\alec\\miniconda3\\envs\\jupyterenv\\Lib\\site-packages\\keras\\src\\engine\\training_v1.py:2359: UserWarning: `Model.state_updates` will be removed in a future version. This property should not be used in TensorFlow 2.0, as `updates` are applied automatically.\n",
      "  updates=self.state_updates,\n",
      "C:\\Users\\alec\\miniconda3\\envs\\jupyterenv\\Lib\\site-packages\\keras\\src\\engine\\training_v1.py:2335: UserWarning: `Model.state_updates` will be removed in a future version. This property should not be used in TensorFlow 2.0, as `updates` are applied automatically.\n",
      "  updates = self.state_updates\n"
     ]
    },
    {
     "name": "stdout",
     "output_type": "stream",
     "text": [
      "Adversarial test set accuracy: 0.12 \n"
     ]
    }
   ],
   "source": [
    "# Fast Gradient Method attack\n",
    "\n",
    "classifier = KerasClassifier(model=model, clip_values=(0, 1), use_logits=False)\n",
    "attack = FastGradientMethod(estimator=classifier, eps=0.1)\n",
    "x_test_adv = attack.generate(x=test_images)\n",
    "score_adv = model.evaluate(\n",
    "    x=x_test_adv,\n",
    "    y=test_labels\n",
    "    )\n",
    "print(f\"Adversarial test set accuracy: {score_adv[1]:.2f} \")"
   ]
  },
  {
   "cell_type": "code",
   "execution_count": 6,
   "id": "afebb20b-52a5-4394-bf11-1e8ba3534e3d",
   "metadata": {
    "tags": []
   },
   "outputs": [
    {
     "name": "stdout",
     "output_type": "stream",
     "text": [
      "Accuracy on original test set:  0.88\n",
      "Accuracy on adversarial test set:  0.12\n",
      "(260,) (260, 4)\n"
     ]
    },
    {
     "data": {
      "image/png": "[encoded data removed]",
      "text/plain": [
       "<Figure size 1000x800 with 2 Axes>"
      ]
     },
     "metadata": {},
     "output_type": "display_data"
    },
    {
     "name": "stdout",
     "output_type": "stream",
     "text": [
      "Classificaiton Report:\n",
      "              precision    recall  f1-score   support\n",
      "\n",
      "           0       0.20      0.18      0.19        65\n",
      "           1       0.11      0.14      0.12        65\n",
      "           2       0.12      0.09      0.10        65\n",
      "           3       0.06      0.06      0.06        65\n",
      "\n",
      "    accuracy                           0.12       260\n",
      "   macro avg       0.12      0.12      0.12       260\n",
      "weighted avg       0.12      0.12      0.12       260\n",
      "\n"
     ]
    }
   ],
   "source": [
    "# Fast Gradient method attack impact\n",
    "\n",
    "import numpy as np\n",
    "from sklearn.metrics import accuracy_score, confusion_matrix, classification_report\n",
    "import tensorflow as tf\n",
    "import matplotlib.pyplot as plt\n",
    "import seaborn as sns\n",
    "\n",
    "score_org = model.evaluate(\n",
    "    x=test_images,\n",
    "    y=test_labels\n",
    "    )\n",
    "\n",
    "# Predictions on original and adversarial test sets\n",
    "original_predictions = model.predict(test_images)\n",
    "adversarial_predictions = model.predict(x_test_adv)\n",
    "\n",
    "true_labels=test_labels\n",
    "\n",
    "# Print accuracy\n",
    "print(f\"Accuracy on original test set:  {score_org[1]:.2f}\")\n",
    "print(f\"Accuracy on adversarial test set:  {score_adv[1]:.2f}\")\n",
    "\n",
    "print(true_labels.shape, adversarial_predictions.shape)\n",
    "\n",
    "# Convert the probabilities in adversarial_predictions to class labels\n",
    "adversarial_predictions = np.argmax(adversarial_predictions, axis=1)\n",
    "\n",
    "# Calculate and display confusion matrix\n",
    "cm=confusion_matrix(true_labels, adversarial_predictions)\n",
    "\n",
    "# Set the style and context for the plot\n",
    "sns.set_style('whitegrid')  # You can choose 'darkgrid', 'whitegrid', 'dark', 'white', and 'ticks'\n",
    "sns.set_context('talk')     # Other options include 'paper', 'notebook', 'talk', and 'poster'\n",
    "\n",
    "# Plotting the confusion matrix\n",
    "plt.figure(figsize=(10, 8))\n",
    "heatmap = sns.heatmap(cm, annot=True, fmt='d', cmap='Blues', xticklabels=train_class_labels, yticklabels=train_class_labels)\n",
    "\n",
    "# Enhance the appearance of the heatmap\n",
    "heatmap.set_xticklabels(heatmap.get_xmajorticklabels(), fontsize=12)\n",
    "heatmap.set_yticklabels(heatmap.get_ymajorticklabels(), fontsize=12)\n",
    "\n",
    "plt.xlabel('Predicted Label', labelpad=12, fontsize=14)\n",
    "plt.ylabel('True Label', labelpad=12, fontsize=14)\n",
    "plt.title('Confusion Matrix FGSM', pad=20, fontsize=16)\n",
    "\n",
    "plt.show()\n",
    "\n",
    "#classification report\n",
    "print(\"Classificaiton Report:\")\n",
    "print(classification_report(true_labels, adversarial_predictions))"
   ]
  },
  {
   "cell_type": "code",
   "execution_count": 7,
   "id": "89b20381-b4bd-44f6-bc21-31b5e7f4a05b",
   "metadata": {},
   "outputs": [],
   "source": [
    "from tensorflow.keras import backend as K\n",
    "\n",
    "# Clearing the TensorFlow backend\n",
    "K.clear_session()\n"
   ]
  },
  {
   "cell_type": "code",
   "execution_count": null,
   "id": "8b913073-83ea-4aff-a5de-cc00eac1f974",
   "metadata": {},
   "outputs": [],
   "source": [
    "#================================================================================================================#\n",
    "#PGD Attack"
   ]
  },
  {
   "cell_type": "code",
   "execution_count": 8,
   "id": "2076f4c3-aba3-47ca-909a-209f7f32ed18",
   "metadata": {
    "tags": []
   },
   "outputs": [
    {
     "name": "stdout",
     "output_type": "stream",
     "text": [
      "Model: \"sequential\"\n",
      "_________________________________________________________________\n",
      " Layer (type)                Output Shape              Param #   \n",
      "=================================================================\n",
      " separable_conv2d (Separabl  (None, 224, 224, 64)      283       \n",
      " eConv2D)                                                        \n",
      "                                                                 \n",
      " max_pooling2d (MaxPooling2  (None, 112, 112, 64)      0         \n",
      " D)                                                              \n",
      "                                                                 \n",
      " dropout (Dropout)           (None, 112, 112, 64)      0         \n",
      "                                                                 \n",
      " separable_conv2d_1 (Separa  (None, 112, 112, 128)     8896      \n",
      " bleConv2D)                                                      \n",
      "                                                                 \n",
      " max_pooling2d_1 (MaxPoolin  (None, 56, 56, 128)       0         \n",
      " g2D)                                                            \n",
      "                                                                 \n",
      " dropout_1 (Dropout)         (None, 56, 56, 128)       0         \n",
      "                                                                 \n",
      " separable_conv2d_2 (Separa  (None, 56, 56, 256)       34176     \n",
      " bleConv2D)                                                      \n",
      "                                                                 \n",
      " max_pooling2d_2 (MaxPoolin  (None, 28, 28, 256)       0         \n",
      " g2D)                                                            \n",
      "                                                                 \n",
      " dropout_2 (Dropout)         (None, 28, 28, 256)       0         \n",
      "                                                                 \n",
      " flatten (Flatten)           (None, 200704)            0         \n",
      "                                                                 \n",
      " dense (Dense)               (None, 256)               51380480  \n",
      "                                                                 \n",
      " dropout_3 (Dropout)         (None, 256)               0         \n",
      "                                                                 \n",
      " dense_1 (Dense)             (None, 4)                 1028      \n",
      "                                                                 \n",
      "=================================================================\n",
      "Total params: 51424863 (196.17 MB)\n",
      "Trainable params: 51424863 (196.17 MB)\n",
      "Non-trainable params: 0 (0.00 Byte)\n",
      "_________________________________________________________________\n"
     ]
    }
   ],
   "source": [
    "# Load pretrained model\n",
    "model = load_model('PlayingCardHardened.h5')\n",
    "\n",
    "model.summary()"
   ]
  },
  {
   "cell_type": "code",
   "execution_count": 9,
   "id": "5e6ea93c-b681-45e8-ba5d-77cedbebc2ad",
   "metadata": {
    "tags": []
   },
   "outputs": [
    {
     "name": "stderr",
     "output_type": "stream",
     "text": [
      "C:\\Users\\alec\\miniconda3\\envs\\jupyterenv\\Lib\\site-packages\\keras\\src\\engine\\training_v1.py:2359: UserWarning: `Model.state_updates` will be removed in a future version. This property should not be used in TensorFlow 2.0, as `updates` are applied automatically.\n",
      "  updates=self.state_updates,\n"
     ]
    },
    {
     "data": {
      "application/vnd.jupyter.widget-view+json": {
       "model_id": "36e733dca810461383229ec84f0e17ed",
       "version_major": 2,
       "version_minor": 0
      },
      "text/plain": [
       "PGD - Random Initializations:   0%|          | 0/1 [00:00<?, ?it/s]"
      ]
     },
     "metadata": {},
     "output_type": "display_data"
    },
    {
     "data": {
      "application/vnd.jupyter.widget-view+json": {
       "model_id": "",
       "version_major": 2,
       "version_minor": 0
      },
      "text/plain": [
       "PGD - Iterations:   0%|          | 0/10 [00:00<?, ?it/s]"
      ]
     },
     "metadata": {},
     "output_type": "display_data"
    },
    {
     "data": {
      "application/vnd.jupyter.widget-view+json": {
       "model_id": "6abbb630a6bb4421af9d95d8393f347d",
       "version_major": 2,
       "version_minor": 0
      },
      "text/plain": [
       "PGD - Random Initializations:   0%|          | 0/1 [00:00<?, ?it/s]"
      ]
     },
     "metadata": {},
     "output_type": "display_data"
    },
    {
     "data": {
      "application/vnd.jupyter.widget-view+json": {
       "model_id": "",
       "version_major": 2,
       "version_minor": 0
      },
      "text/plain": [
       "PGD - Iterations:   0%|          | 0/10 [00:00<?, ?it/s]"
      ]
     },
     "metadata": {},
     "output_type": "display_data"
    },
    {
     "data": {
      "application/vnd.jupyter.widget-view+json": {
       "model_id": "81a44a7066004795be85864eba182404",
       "version_major": 2,
       "version_minor": 0
      },
      "text/plain": [
       "PGD - Random Initializations:   0%|          | 0/1 [00:00<?, ?it/s]"
      ]
     },
     "metadata": {},
     "output_type": "display_data"
    },
    {
     "data": {
      "application/vnd.jupyter.widget-view+json": {
       "model_id": "",
       "version_major": 2,
       "version_minor": 0
      },
      "text/plain": [
       "PGD - Iterations:   0%|          | 0/10 [00:00<?, ?it/s]"
      ]
     },
     "metadata": {},
     "output_type": "display_data"
    },
    {
     "data": {
      "application/vnd.jupyter.widget-view+json": {
       "model_id": "50c1025222664c01b092f263fc3c3736",
       "version_major": 2,
       "version_minor": 0
      },
      "text/plain": [
       "PGD - Random Initializations:   0%|          | 0/1 [00:00<?, ?it/s]"
      ]
     },
     "metadata": {},
     "output_type": "display_data"
    },
    {
     "data": {
      "application/vnd.jupyter.widget-view+json": {
       "model_id": "",
       "version_major": 2,
       "version_minor": 0
      },
      "text/plain": [
       "PGD - Iterations:   0%|          | 0/10 [00:00<?, ?it/s]"
      ]
     },
     "metadata": {},
     "output_type": "display_data"
    },
    {
     "data": {
      "application/vnd.jupyter.widget-view+json": {
       "model_id": "b65753ee2f63487da6353d5c860f5334",
       "version_major": 2,
       "version_minor": 0
      },
      "text/plain": [
       "PGD - Random Initializations:   0%|          | 0/1 [00:00<?, ?it/s]"
      ]
     },
     "metadata": {},
     "output_type": "display_data"
    },
    {
     "data": {
      "application/vnd.jupyter.widget-view+json": {
       "model_id": "",
       "version_major": 2,
       "version_minor": 0
      },
      "text/plain": [
       "PGD - Iterations:   0%|          | 0/10 [00:00<?, ?it/s]"
      ]
     },
     "metadata": {},
     "output_type": "display_data"
    },
    {
     "data": {
      "application/vnd.jupyter.widget-view+json": {
       "model_id": "404d167af8684c5b9f4f2238780b78f3",
       "version_major": 2,
       "version_minor": 0
      },
      "text/plain": [
       "PGD - Random Initializations:   0%|          | 0/1 [00:00<?, ?it/s]"
      ]
     },
     "metadata": {},
     "output_type": "display_data"
    },
    {
     "data": {
      "application/vnd.jupyter.widget-view+json": {
       "model_id": "",
       "version_major": 2,
       "version_minor": 0
      },
      "text/plain": [
       "PGD - Iterations:   0%|          | 0/10 [00:00<?, ?it/s]"
      ]
     },
     "metadata": {},
     "output_type": "display_data"
    },
    {
     "data": {
      "application/vnd.jupyter.widget-view+json": {
       "model_id": "e932152a6ce64714819a156bd7b652f9",
       "version_major": 2,
       "version_minor": 0
      },
      "text/plain": [
       "PGD - Random Initializations:   0%|          | 0/1 [00:00<?, ?it/s]"
      ]
     },
     "metadata": {},
     "output_type": "display_data"
    },
    {
     "data": {
      "application/vnd.jupyter.widget-view+json": {
       "model_id": "",
       "version_major": 2,
       "version_minor": 0
      },
      "text/plain": [
       "PGD - Iterations:   0%|          | 0/10 [00:00<?, ?it/s]"
      ]
     },
     "metadata": {},
     "output_type": "display_data"
    },
    {
     "data": {
      "application/vnd.jupyter.widget-view+json": {
       "model_id": "db176d5882e84e1e8e56645b3ad6027a",
       "version_major": 2,
       "version_minor": 0
      },
      "text/plain": [
       "PGD - Random Initializations:   0%|          | 0/1 [00:00<?, ?it/s]"
      ]
     },
     "metadata": {},
     "output_type": "display_data"
    },
    {
     "data": {
      "application/vnd.jupyter.widget-view+json": {
       "model_id": "",
       "version_major": 2,
       "version_minor": 0
      },
      "text/plain": [
       "PGD - Iterations:   0%|          | 0/10 [00:00<?, ?it/s]"
      ]
     },
     "metadata": {},
     "output_type": "display_data"
    },
    {
     "data": {
      "application/vnd.jupyter.widget-view+json": {
       "model_id": "c599659ff63844a8a9f505562286ab59",
       "version_major": 2,
       "version_minor": 0
      },
      "text/plain": [
       "PGD - Random Initializations:   0%|          | 0/1 [00:00<?, ?it/s]"
      ]
     },
     "metadata": {},
     "output_type": "display_data"
    },
    {
     "data": {
      "application/vnd.jupyter.widget-view+json": {
       "model_id": "",
       "version_major": 2,
       "version_minor": 0
      },
      "text/plain": [
       "PGD - Iterations:   0%|          | 0/10 [00:00<?, ?it/s]"
      ]
     },
     "metadata": {},
     "output_type": "display_data"
    },
    {
     "name": "stderr",
     "output_type": "stream",
     "text": [
      "C:\\Users\\alec\\miniconda3\\envs\\jupyterenv\\Lib\\site-packages\\keras\\src\\engine\\training_v1.py:2335: UserWarning: `Model.state_updates` will be removed in a future version. This property should not be used in TensorFlow 2.0, as `updates` are applied automatically.\n",
      "  updates = self.state_updates\n"
     ]
    }
   ],
   "source": [
    "# FGSM attack\n",
    "\n",
    "classifier = KerasClassifier(model=model, clip_values=(0, 1), use_logits=False)\n",
    "attack = ProjectedGradientDescent(estimator=classifier, eps=0.1, max_iter=10, eps_step=0.01)\n",
    "x_test_adv_pgd = attack.generate(x=test_images)\n",
    "score_adv_pgd = model.evaluate(x=x_test_adv_pgd, y=test_labels)"
   ]
  },
  {
   "cell_type": "code",
   "execution_count": 12,
   "id": "1dfe952b-3d12-44ec-b148-a941c06d20dd",
   "metadata": {
    "tags": []
   },
   "outputs": [
    {
     "name": "stdout",
     "output_type": "stream",
     "text": [
      "Accuracy on original test set:  0.88\n",
      "Accuracy on adversarial test set:  0.09\n",
      "(260,) (260, 4)\n"
     ]
    },
    {
     "data": {
      "image/png": "[encoded data removed]",
      "text/plain": [
       "<Figure size 1000x800 with 2 Axes>"
      ]
     },
     "metadata": {},
     "output_type": "display_data"
    },
    {
     "name": "stdout",
     "output_type": "stream",
     "text": [
      "Classificaiton Report:\n",
      "              precision    recall  f1-score   support\n",
      "\n",
      "           0       0.18      0.20      0.19        65\n",
      "           1       0.05      0.06      0.06        65\n",
      "           2       0.07      0.05      0.06        65\n",
      "           3       0.05      0.05      0.05        65\n",
      "\n",
      "    accuracy                           0.09       260\n",
      "   macro avg       0.09      0.09      0.09       260\n",
      "weighted avg       0.09      0.09      0.09       260\n",
      "\n"
     ]
    }
   ],
   "source": [
    "# PGD method attack impact\n",
    "\n",
    "import numpy as np\n",
    "from sklearn.metrics import accuracy_score, confusion_matrix, classification_report\n",
    "import tensorflow as tf\n",
    "import matplotlib.pyplot as plt\n",
    "import seaborn as sns\n",
    "\n",
    "score_org = model.evaluate(\n",
    "    x=test_images,\n",
    "    y=test_labels\n",
    "    )\n",
    "\n",
    "score_adv = model.evaluate(\n",
    "    x=x_test_adv_pgd,\n",
    "    y=test_labels\n",
    "    )\n",
    "\n",
    "# Predictions on original and adversarial test sets\n",
    "original_predictions = model.predict(test_images)\n",
    "adversarial_predictions = model.predict(x_test_adv_pgd)\n",
    "\n",
    "true_labels=test_labels\n",
    "\n",
    "# Print accuracy\n",
    "print(f\"Accuracy on original test set:  {score_org[1]:.2f}\")\n",
    "print(f\"Accuracy on adversarial test set:  {score_adv[1]:.2f}\")\n",
    "\n",
    "print(true_labels.shape, adversarial_predictions.shape)\n",
    "\n",
    "# Convert the probabilities in adversarial_predictions to class labels\n",
    "adversarial_predictions = np.argmax(adversarial_predictions, axis=1)\n",
    "\n",
    "# Calculate and display confusion matrix\n",
    "cm=confusion_matrix(true_labels, adversarial_predictions)\n",
    "\n",
    "# Set the style and context for the plot\n",
    "sns.set_style('whitegrid')  # You can choose 'darkgrid', 'whitegrid', 'dark', 'white', and 'ticks'\n",
    "sns.set_context('talk')     # Other options include 'paper', 'notebook', 'talk', and 'poster'\n",
    "\n",
    "# Plotting the confusion matrix\n",
    "plt.figure(figsize=(10, 8))\n",
    "heatmap = sns.heatmap(cm, annot=True, fmt='d', cmap='Blues', xticklabels=train_class_labels, yticklabels=train_class_labels)\n",
    "\n",
    "# Enhance the appearance of the heatmap\n",
    "heatmap.set_xticklabels(heatmap.get_xmajorticklabels(), fontsize=12)\n",
    "heatmap.set_yticklabels(heatmap.get_ymajorticklabels(), fontsize=12)\n",
    "\n",
    "plt.xlabel('Predicted Label', labelpad=12, fontsize=14)\n",
    "plt.ylabel('True Label', labelpad=12, fontsize=14)\n",
    "plt.title('Confusion Matrix PGD', pad=20, fontsize=16)\n",
    "\n",
    "plt.show()\n",
    "\n",
    "#classification report\n",
    "print(\"Classificaiton Report:\")\n",
    "print(classification_report(true_labels, adversarial_predictions))"
   ]
  },
  {
   "cell_type": "code",
   "execution_count": 13,
   "id": "be9c99fb-35b6-4eea-a63a-f24cb18b00e3",
   "metadata": {
    "tags": []
   },
   "outputs": [],
   "source": [
    "from tensorflow.keras import backend as K\n",
    "\n",
    "# Clearing the TensorFlow backend\n",
    "K.clear_session()\n"
   ]
  },
  {
   "cell_type": "code",
   "execution_count": 1,
   "id": "adcbf181-f11f-4ce4-bee0-d63b2bfc39df",
   "metadata": {},
   "outputs": [],
   "source": [
    "#========================================================================================\n",
    "# Carlini L2 Method attack"
   ]
  },
  {
   "cell_type": "code",
   "execution_count": 3,
   "id": "abd4b6a2-9b22-4798-aa4e-c3e243fecd1d",
   "metadata": {
    "tags": []
   },
   "outputs": [],
   "source": [
    "model = load_model(\"PlayingCardHardened.h5\")"
   ]
  },
  {
   "cell_type": "code",
   "execution_count": 8,
   "id": "372abd8e-c782-4d49-9e20-fb91895216bf",
   "metadata": {},
   "outputs": [
    {
     "data": {
      "application/vnd.jupyter.widget-view+json": {
       "model_id": "6aab1aea3d314cc4beeacaeb0fff94fa",
       "version_major": 2,
       "version_minor": 0
      },
      "text/plain": [
       "C&W L_2:   0%|          | 0/260 [00:00<?, ?it/s]"
      ]
     },
     "metadata": {},
     "output_type": "display_data"
    },
    {
     "ename": "AxisError",
     "evalue": "axis 1 is out of bounds for array of dimension 1",
     "output_type": "error",
     "traceback": [
      "\u001b[1;31m---------------------------------------------------------------------------\u001b[0m",
      "\u001b[1;31mAxisError\u001b[0m                                 Traceback (most recent call last)",
      "Cell \u001b[1;32mIn[8], line 18\u001b[0m\n\u001b[0;32m     16\u001b[0m \u001b[38;5;66;03m# Evaluate the model on the adversarial examples\u001b[39;00m\n\u001b[0;32m     17\u001b[0m predictions \u001b[38;5;241m=\u001b[39m model\u001b[38;5;241m.\u001b[39mpredict(x_test_adv)\n\u001b[1;32m---> 18\u001b[0m accuracy \u001b[38;5;241m=\u001b[39m np\u001b[38;5;241m.\u001b[39mmean(np\u001b[38;5;241m.\u001b[39margmax(predictions, axis\u001b[38;5;241m=\u001b[39m\u001b[38;5;241m1\u001b[39m) \u001b[38;5;241m==\u001b[39m np\u001b[38;5;241m.\u001b[39margmax(test_labels, axis\u001b[38;5;241m=\u001b[39m\u001b[38;5;241m1\u001b[39m))\n\u001b[0;32m     19\u001b[0m \u001b[38;5;28mprint\u001b[39m(\u001b[38;5;124mf\u001b[39m\u001b[38;5;124m\"\u001b[39m\u001b[38;5;124mAccuracy on adversarial samples: \u001b[39m\u001b[38;5;132;01m{\u001b[39;00maccuracy\u001b[38;5;250m \u001b[39m\u001b[38;5;241m*\u001b[39m\u001b[38;5;250m \u001b[39m\u001b[38;5;241m100\u001b[39m\u001b[38;5;132;01m:\u001b[39;00m\u001b[38;5;124m.2f\u001b[39m\u001b[38;5;132;01m}\u001b[39;00m\u001b[38;5;124m%\u001b[39m\u001b[38;5;124m\"\u001b[39m)\n",
      "File \u001b[1;32m<__array_function__ internals>:200\u001b[0m, in \u001b[0;36margmax\u001b[1;34m(*args, **kwargs)\u001b[0m\n",
      "File \u001b[1;32m~\\miniconda3\\envs\\jupyterenv\\Lib\\site-packages\\numpy\\core\\fromnumeric.py:1242\u001b[0m, in \u001b[0;36margmax\u001b[1;34m(a, axis, out, keepdims)\u001b[0m\n\u001b[0;32m   1155\u001b[0m \u001b[38;5;250m\u001b[39m\u001b[38;5;124;03m\"\"\"\u001b[39;00m\n\u001b[0;32m   1156\u001b[0m \u001b[38;5;124;03mReturns the indices of the maximum values along an axis.\u001b[39;00m\n\u001b[0;32m   1157\u001b[0m \n\u001b[1;32m   (...)\u001b[0m\n\u001b[0;32m   1239\u001b[0m \u001b[38;5;124;03m(2, 1, 4)\u001b[39;00m\n\u001b[0;32m   1240\u001b[0m \u001b[38;5;124;03m\"\"\"\u001b[39;00m\n\u001b[0;32m   1241\u001b[0m kwds \u001b[38;5;241m=\u001b[39m {\u001b[38;5;124m'\u001b[39m\u001b[38;5;124mkeepdims\u001b[39m\u001b[38;5;124m'\u001b[39m: keepdims} \u001b[38;5;28;01mif\u001b[39;00m keepdims \u001b[38;5;129;01mis\u001b[39;00m \u001b[38;5;129;01mnot\u001b[39;00m np\u001b[38;5;241m.\u001b[39m_NoValue \u001b[38;5;28;01melse\u001b[39;00m {}\n\u001b[1;32m-> 1242\u001b[0m \u001b[38;5;28;01mreturn\u001b[39;00m _wrapfunc(a, \u001b[38;5;124m'\u001b[39m\u001b[38;5;124margmax\u001b[39m\u001b[38;5;124m'\u001b[39m, axis\u001b[38;5;241m=\u001b[39maxis, out\u001b[38;5;241m=\u001b[39mout, \u001b[38;5;241m*\u001b[39m\u001b[38;5;241m*\u001b[39mkwds)\n",
      "File \u001b[1;32m~\\miniconda3\\envs\\jupyterenv\\Lib\\site-packages\\numpy\\core\\fromnumeric.py:57\u001b[0m, in \u001b[0;36m_wrapfunc\u001b[1;34m(obj, method, *args, **kwds)\u001b[0m\n\u001b[0;32m     54\u001b[0m     \u001b[38;5;28;01mreturn\u001b[39;00m _wrapit(obj, method, \u001b[38;5;241m*\u001b[39margs, \u001b[38;5;241m*\u001b[39m\u001b[38;5;241m*\u001b[39mkwds)\n\u001b[0;32m     56\u001b[0m \u001b[38;5;28;01mtry\u001b[39;00m:\n\u001b[1;32m---> 57\u001b[0m     \u001b[38;5;28;01mreturn\u001b[39;00m bound(\u001b[38;5;241m*\u001b[39margs, \u001b[38;5;241m*\u001b[39m\u001b[38;5;241m*\u001b[39mkwds)\n\u001b[0;32m     58\u001b[0m \u001b[38;5;28;01mexcept\u001b[39;00m \u001b[38;5;167;01mTypeError\u001b[39;00m:\n\u001b[0;32m     59\u001b[0m     \u001b[38;5;66;03m# A TypeError occurs if the object does have such a method in its\u001b[39;00m\n\u001b[0;32m     60\u001b[0m     \u001b[38;5;66;03m# class, but its signature is not identical to that of NumPy's. This\u001b[39;00m\n\u001b[1;32m   (...)\u001b[0m\n\u001b[0;32m     64\u001b[0m     \u001b[38;5;66;03m# Call _wrapit from within the except clause to ensure a potential\u001b[39;00m\n\u001b[0;32m     65\u001b[0m     \u001b[38;5;66;03m# exception has a traceback chain.\u001b[39;00m\n\u001b[0;32m     66\u001b[0m     \u001b[38;5;28;01mreturn\u001b[39;00m _wrapit(obj, method, \u001b[38;5;241m*\u001b[39margs, \u001b[38;5;241m*\u001b[39m\u001b[38;5;241m*\u001b[39mkwds)\n",
      "\u001b[1;31mAxisError\u001b[0m: axis 1 is out of bounds for array of dimension 1"
     ]
    }
   ],
   "source": [
    "\n",
    "# Assuming 'model' is your pre-trained Keras model\n",
    "classifier = KerasClassifier(model=model, clip_values=(0, 1))\n",
    "\n",
    "# Carlini & Wagner L2 attack initialization\n",
    "attack = CarliniL2Method(classifier=classifier, \n",
    "                         confidence=0.0,            # Confidence of adversarial examples: a higher value produces examples that are farther away from the decision boundary of the model, but more likely to be classified as a specific target class.\n",
    "                         targeted=False,            # Non-targeted attack\n",
    "                         learning_rate=0.1,        # The learning rate for the attack algorithm. Smaller values produce better results but take longer to converge.\n",
    "                         max_iter=2,               # The maximum number of iterations. More iterations produce better results but take longer to run.\n",
    "                         binary_search_steps=10,    # The number of search steps to perform binary search over the const c.\n",
    "                         batch_size=1)              # The size of the batch on which adversarial samples are generated.\n",
    "\n",
    "# Generate adversarial examples\n",
    "x_test_adv = attack.generate(x=test_images)\n",
    "\n"
   ]
  },
  {
   "cell_type": "code",
   "execution_count": 9,
   "id": "755e5819-9ff4-402d-8ad1-18eed72b3a9b",
   "metadata": {
    "tags": []
   },
   "outputs": [
    {
     "name": "stdout",
     "output_type": "stream",
     "text": [
      "Accuracy on original test set:  0.88\n",
      "Accuracy on adversarial test set:  0.73\n",
      "(260,) (260, 4)\n"
     ]
    },
    {
     "data": {
      "image/png": "[encoded data removed]",
      "text/plain": [
       "<Figure size 1000x800 with 2 Axes>"
      ]
     },
     "metadata": {},
     "output_type": "display_data"
    },
    {
     "name": "stdout",
     "output_type": "stream",
     "text": [
      "Classificaiton Report:\n",
      "              precision    recall  f1-score   support\n",
      "\n",
      "           0       0.86      0.65      0.74        65\n",
      "           1       0.68      0.89      0.77        65\n",
      "           2       0.74      0.71      0.72        65\n",
      "           3       0.70      0.69      0.70        65\n",
      "\n",
      "    accuracy                           0.73       260\n",
      "   macro avg       0.75      0.73      0.73       260\n",
      "weighted avg       0.75      0.73      0.73       260\n",
      "\n"
     ]
    }
   ],
   "source": [
    "# C&W attack impact\n",
    "\n",
    "import numpy as np\n",
    "from sklearn.metrics import accuracy_score, confusion_matrix, classification_report\n",
    "import tensorflow as tf\n",
    "import matplotlib.pyplot as plt\n",
    "import seaborn as sns\n",
    "\n",
    "score_org = model.evaluate(\n",
    "    x=test_images,\n",
    "    y=test_labels\n",
    "    )\n",
    "\n",
    "score_adv = model.evaluate(\n",
    "    x=x_test_adv,\n",
    "    y=test_labels\n",
    "    )\n",
    "\n",
    "# Predictions on original and adversarial test sets\n",
    "original_predictions = model.predict(test_images)\n",
    "adversarial_predictions = model.predict(x_test_adv)\n",
    "\n",
    "true_labels=test_labels\n",
    "\n",
    "# Print accuracy\n",
    "print(f\"Accuracy on original test set:  {score_org[1]:.2f}\")\n",
    "print(f\"Accuracy on adversarial test set:  {score_adv[1]:.2f}\")\n",
    "\n",
    "print(true_labels.shape, adversarial_predictions.shape)\n",
    "\n",
    "# Convert the probabilities in adversarial_predictions to class labels\n",
    "adversarial_predictions = np.argmax(adversarial_predictions, axis=1)\n",
    "\n",
    "# Calculate and display confusion matrix\n",
    "cm=confusion_matrix(true_labels, adversarial_predictions)\n",
    "\n",
    "# Set the style and context for the plot\n",
    "sns.set_style('whitegrid')  # You can choose 'darkgrid', 'whitegrid', 'dark', 'white', and 'ticks'\n",
    "sns.set_context('talk')     # Other options include 'paper', 'notebook', 'talk', and 'poster'\n",
    "\n",
    "# Plotting the confusion matrix\n",
    "plt.figure(figsize=(10, 8))\n",
    "heatmap = sns.heatmap(cm, annot=True, fmt='d', cmap='Blues', xticklabels=train_class_labels, yticklabels=train_class_labels)\n",
    "\n",
    "# Enhance the appearance of the heatmap\n",
    "heatmap.set_xticklabels(heatmap.get_xmajorticklabels(), fontsize=12)\n",
    "heatmap.set_yticklabels(heatmap.get_ymajorticklabels(), fontsize=12)\n",
    "\n",
    "plt.xlabel('Predicted Label', labelpad=12, fontsize=14)\n",
    "plt.ylabel('True Label', labelpad=12, fontsize=14)\n",
    "plt.title('Confusion Matrix PGD', pad=20, fontsize=16)\n",
    "\n",
    "plt.show()\n",
    "\n",
    "#classification report\n",
    "print(\"Classificaiton Report:\")\n",
    "print(classification_report(true_labels, adversarial_predictions))"
   ]
  },
  {
   "cell_type": "code",
   "execution_count": null,
   "id": "a04b4ab5-0327-46fa-95f4-32faf5474e96",
   "metadata": {},
   "outputs": [],
   "source": []
  }
 ],
 "metadata": {
  "kernelspec": {
   "display_name": "Python 3 (ipykernel)",
   "language": "python",
   "name": "python3"
  },
  "language_info": {
   "codemirror_mode": {
    "name": "ipython",
    "version": 3
   },
   "file_extension": ".py",
   "mimetype": "text/x-python",
   "name": "python",
   "nbconvert_exporter": "python",
   "pygments_lexer": "ipython3",
   "version": "3.11.5"
  }
 },
 "nbformat": 4,
 "nbformat_minor": 5
}
