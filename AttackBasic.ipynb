{
 "cells": [
  {
   "cell_type": "code",
   "execution_count": 1,
   "id": "bdd8cbad-4aba-4f8b-8816-dd4ea995f9aa",
   "metadata": {
    "tags": []
   },
   "outputs": [],
   "source": [
    "import numpy as np\n",
    "from art.attacks.evasion import FastGradientMethod, ProjectedGradientDescent, CarliniL2Method\n",
    "from art.utils import to_categorical\n",
    "from art.estimators.classification import KerasClassifier\n",
    "from tensorflow.keras.models import load_model\n",
    "import tensorflow as tf\n",
    "tf.compat.v1.disable_eager_execution()"
   ]
  },
  {
   "cell_type": "code",
   "execution_count": 2,
   "id": "71983e6b-a48f-4f70-a727-9bfb1aabf7c6",
   "metadata": {},
   "outputs": [
    {
     "name": "stdout",
     "output_type": "stream",
     "text": [
      "Checking suit directory: c:\\Users\\alec\\OneDrive - University of North Georgia\\FALL 2023\\Cyber capstone\\Experimentation\\SortedData\\train\\hearts\n",
      "Label index for hearts: 0\n",
      "Checking suit directory: c:\\Users\\alec\\OneDrive - University of North Georgia\\FALL 2023\\Cyber capstone\\Experimentation\\SortedData\\train\\diamonds\n",
      "Label index for diamonds: 1\n",
      "Checking suit directory: c:\\Users\\alec\\OneDrive - University of North Georgia\\FALL 2023\\Cyber capstone\\Experimentation\\SortedData\\train\\clubs\n",
      "Label index for clubs: 2\n",
      "Checking suit directory: c:\\Users\\alec\\OneDrive - University of North Georgia\\FALL 2023\\Cyber capstone\\Experimentation\\SortedData\\train\\spades\n",
      "Label index for spades: 3\n",
      "[2 1 0 0 0 2 0 1 2 3 0 2 3 2 2 3 3 0 0 2 2 1 2 2 2 3 0 3 2 3 1 0 3 3 2 0 1\n",
      " 1 0 2 1 0 0 1 0 0 1 3 2 1 3 3 3 3 0 2 2 2 2 3 3 1 1 1 1 0 1 1 1 3 3 0 2 0\n",
      " 0 2 3 1 3 1 2 2 2 1 0 3 1 2 3 0 2 0 3 3 3 2 2 3 1 3]\n",
      "Checking suit directory: c:\\Users\\alec\\OneDrive - University of North Georgia\\FALL 2023\\Cyber capstone\\Experimentation\\SortedData\\valid\\hearts\n",
      "Label index for hearts: 0\n",
      "Checking suit directory: c:\\Users\\alec\\OneDrive - University of North Georgia\\FALL 2023\\Cyber capstone\\Experimentation\\SortedData\\valid\\diamonds\n",
      "Label index for diamonds: 1\n",
      "Checking suit directory: c:\\Users\\alec\\OneDrive - University of North Georgia\\FALL 2023\\Cyber capstone\\Experimentation\\SortedData\\valid\\clubs\n",
      "Label index for clubs: 2\n",
      "Checking suit directory: c:\\Users\\alec\\OneDrive - University of North Georgia\\FALL 2023\\Cyber capstone\\Experimentation\\SortedData\\valid\\spades\n",
      "Label index for spades: 3\n",
      "[0 0 0 3 1 3 0 1 1 1 1 2 2 2 3 2 3 3 3 2 3 0 3 0 2 2 0 0 2 0 2 0 1 3 1 0 2\n",
      " 3 0 0 0 3 0 0 1 1 1 0 1 0 2 2 0 3 3 1 0 0 3 2 2 3 1 3 3 3 0 3 0 3 1 0 2 2\n",
      " 0 1 2 2 2 0 2 3 2 3 1 1 1 2 0 2 2 1 2 3 3 0 3 1 1 3]\n",
      "Checking suit directory: c:\\Users\\alec\\OneDrive - University of North Georgia\\FALL 2023\\Cyber capstone\\Experimentation\\SortedData\\test\\hearts\n",
      "Label index for hearts: 0\n",
      "Checking suit directory: c:\\Users\\alec\\OneDrive - University of North Georgia\\FALL 2023\\Cyber capstone\\Experimentation\\SortedData\\test\\diamonds\n",
      "Label index for diamonds: 1\n",
      "Checking suit directory: c:\\Users\\alec\\OneDrive - University of North Georgia\\FALL 2023\\Cyber capstone\\Experimentation\\SortedData\\test\\clubs\n",
      "Label index for clubs: 2\n",
      "Checking suit directory: c:\\Users\\alec\\OneDrive - University of North Georgia\\FALL 2023\\Cyber capstone\\Experimentation\\SortedData\\test\\spades\n",
      "Label index for spades: 3\n",
      "[1 2 2 1 3 0 1 2 1 0 3 1 3 0 0 0 2 1 3 3 2 0 2 1 1 0 1 2 2 0 2 3 3 0 2 0 1\n",
      " 3 0 1 3 1 1 2 2 2 1 0 2 3 1 0 0 0 0 3 2 3 1 1 2 3 2 2 2 3 3 2 3 2 3 2 2 1\n",
      " 0 2 1 1 2 2 2 3 3 2 1 3 2 3 0 0 3 3 2 1 2 2 2 3 2 0]\n",
      "(7509, 224, 224, 3) (7509,)\n",
      "(260, 224, 224, 3) (260,)\n",
      "(260, 224, 224, 3) (260,)\n",
      "{'hearts': 0, 'diamonds': 1, 'clubs': 2, 'spades': 3}\n"
     ]
    }
   ],
   "source": [
    "# Load the dataset to allow for adversarial attacks\n",
    "# CHANGE USERNAME WHEN WORKING BETWEEN LAPTOP AND DESKTOP!!\n",
    "\n",
    "import os\n",
    "import numpy as np\n",
    "from PIL import Image\n",
    "from tensorflow.keras.preprocessing.image import load_img, img_to_array\n",
    "\n",
    "def load_dataset(base_dir, target_size=(224, 224)):\n",
    "    images = []\n",
    "    labels = []\n",
    "    class_labels = {'hearts': 0, 'diamonds': 1, 'clubs': 2, 'spades': 3}\n",
    "    \n",
    "    # Navigate through each suit folder\n",
    "    for suit in class_labels.keys():\n",
    "        suit_dir = os.path.join(base_dir, suit)\n",
    "        print(f\"Checking suit directory: {suit_dir}\")  # Debug print\n",
    "        if os.path.isdir(suit_dir):\n",
    "            label_index = class_labels[suit]\n",
    "            print(f\"Label index for {suit}: {label_index}\")  # Debug print\n",
    "\n",
    "            # Navigate through each card folder within the suit folder\n",
    "            for card_folder in os.listdir(suit_dir):\n",
    "                card_folder_path = os.path.join(suit_dir, card_folder)\n",
    "                #print(f\"Checking card folder: {card_folder_path}\")  # Add this debug print\n",
    "                if os.path.isdir(card_folder_path):\n",
    "                    # Load each image from the card folder\n",
    "                    for image_file in os.listdir(card_folder_path):\n",
    "                        image_path = os.path.join(card_folder_path, image_file)\n",
    "                        image = load_img(image_path, target_size=target_size)\n",
    "                        #print(f\"Loading image: {image_path}\")  # Debug print\n",
    "                        image_array = img_to_array(image)\n",
    "                        images.append(image_array)\n",
    "                        labels.append(label_index)\n",
    "    \n",
    "    # After loading all images and labels, shuffle them\n",
    "    combined = list(zip(images, labels))\n",
    "    np.random.shuffle(combined)\n",
    "\n",
    "    images[:], labels[:] = zip(*combined)                    \n",
    "    \n",
    "    images = np.array(images, dtype='float32') / 255.0  # Normalize to [0, 1]\n",
    "    labels = np.array(labels, dtype='int32')\n",
    "    \n",
    "    # Print some of the labels to verify they are correct\n",
    "    print(labels[:100])\n",
    "    \n",
    "    return images, labels, class_labels\n",
    "\n",
    "# Directory Definitions\n",
    "base_dir = \"c:\\\\Users\\\\alec\\\\OneDrive - University of North Georgia\\\\FALL 2023\\\\Cyber capstone\\\\Experimentation\\\\SortedData\"\n",
    "train_dir = os.path.join(base_dir, 'train')\n",
    "validation_dir = os.path.join(base_dir, 'valid')\n",
    "test_dir = os.path.join(base_dir, 'test')\n",
    "\n",
    "# Usage\n",
    "train_images, train_labels, train_class_labels = load_dataset(train_dir)\n",
    "valid_images, valid_labels, valid_class_labels = load_dataset(validation_dir)\n",
    "test_images, test_labels, test_class_labels = load_dataset(test_dir)\n",
    "\n",
    "# Check shapes and class labels\n",
    "print(train_images.shape, train_labels.shape)\n",
    "print(valid_images.shape, valid_labels.shape)\n",
    "print(test_images.shape, test_labels.shape)\n",
    "print(train_class_labels)"
   ]
  },
  {
   "cell_type": "code",
   "execution_count": 3,
   "id": "c0ba610d-78ca-4888-a67c-b071a27ee756",
   "metadata": {
    "tags": []
   },
   "outputs": [
    {
     "name": "stdout",
     "output_type": "stream",
     "text": [
      "Model: \"sequential_2\"\n",
      "_________________________________________________________________\n",
      " Layer (type)                Output Shape              Param #   \n",
      "=================================================================\n",
      " conv2d (Conv2D)             (None, 224, 224, 32)      896       \n",
      "                                                                 \n",
      " max_pooling2d_2 (MaxPoolin  (None, 112, 112, 32)      0         \n",
      " g2D)                                                            \n",
      "                                                                 \n",
      " dropout_1 (Dropout)         (None, 112, 112, 32)      0         \n",
      "                                                                 \n",
      " conv2d_1 (Conv2D)           (None, 112, 112, 64)      18496     \n",
      "                                                                 \n",
      " max_pooling2d_3 (MaxPoolin  (None, 56, 56, 64)        0         \n",
      " g2D)                                                            \n",
      "                                                                 \n",
      " dropout_2 (Dropout)         (None, 56, 56, 64)        0         \n",
      "                                                                 \n",
      " conv2d_2 (Conv2D)           (None, 56, 56, 128)       73856     \n",
      "                                                                 \n",
      " max_pooling2d_4 (MaxPoolin  (None, 28, 28, 128)       0         \n",
      " g2D)                                                            \n",
      "                                                                 \n",
      " dropout_3 (Dropout)         (None, 28, 28, 128)       0         \n",
      "                                                                 \n",
      " flatten_2 (Flatten)         (None, 100352)            0         \n",
      "                                                                 \n",
      " dense_4 (Dense)             (None, 128)               12845184  \n",
      "                                                                 \n",
      " dropout_4 (Dropout)         (None, 128)               0         \n",
      "                                                                 \n",
      " dense_5 (Dense)             (None, 4)                 516       \n",
      "                                                                 \n",
      "=================================================================\n",
      "Total params: 12938948 (49.36 MB)\n",
      "Trainable params: 12938948 (49.36 MB)\n",
      "Non-trainable params: 0 (0.00 Byte)\n",
      "_________________________________________________________________\n"
     ]
    }
   ],
   "source": [
    "# Load pretrained model\n",
    "model = load_model('PlayingCard.h5')\n",
    "\n",
    "model.summary()"
   ]
  },
  {
   "cell_type": "code",
   "execution_count": 4,
   "id": "44d40805-b554-4621-a565-1b66166e3d35",
   "metadata": {},
   "outputs": [
    {
     "name": "stderr",
     "output_type": "stream",
     "text": [
      "C:\\Users\\alec\\miniconda3\\envs\\jupyterenv\\Lib\\site-packages\\keras\\src\\engine\\training_v1.py:2359: UserWarning: `Model.state_updates` will be removed in a future version. This property should not be used in TensorFlow 2.0, as `updates` are applied automatically.\n",
      "  updates=self.state_updates,\n",
      "C:\\Users\\alec\\miniconda3\\envs\\jupyterenv\\Lib\\site-packages\\keras\\src\\engine\\training_v1.py:2335: UserWarning: `Model.state_updates` will be removed in a future version. This property should not be used in TensorFlow 2.0, as `updates` are applied automatically.\n",
      "  updates = self.state_updates\n"
     ]
    },
    {
     "name": "stdout",
     "output_type": "stream",
     "text": [
      "Adversarial test set accuracy: 0.42 \n"
     ]
    }
   ],
   "source": [
    "# Fast Gradient Method attack\n",
    "\n",
    "classifier = KerasClassifier(model=model, clip_values=(0, 1), use_logits=False)\n",
    "attack = FastGradientMethod(estimator=classifier, eps=0.1)\n",
    "x_test_adv = attack.generate(x=test_images)\n",
    "score_adv = model.evaluate(\n",
    "    x=x_test_adv,\n",
    "    y=test_labels\n",
    "    )\n",
    "print(f\"Adversarial test set accuracy: {score_adv[1]:.2f} \")"
   ]
  },
  {
   "cell_type": "code",
   "execution_count": 5,
   "id": "afebb20b-52a5-4394-bf11-1e8ba3534e3d",
   "metadata": {
    "tags": []
   },
   "outputs": [
    {
     "name": "stdout",
     "output_type": "stream",
     "text": [
      "Accuracy on original test set:  0.96\n",
      "Accuracy on adversarial test set:  0.42\n",
      "(260,) (260, 4)\n"
     ]
    },
    {
     "data": {
      "image/png": "[encoded data removed]",
      "text/plain": [
       "<Figure size 1000x800 with 2 Axes>"
      ]
     },
     "metadata": {},
     "output_type": "display_data"
    },
    {
     "name": "stdout",
     "output_type": "stream",
     "text": [
      "Classificaiton Report:\n",
      "              precision    recall  f1-score   support\n",
      "\n",
      "           0       0.32      0.42      0.36        65\n",
      "           1       0.23      0.15      0.19        65\n",
      "           2       0.60      0.52      0.56        65\n",
      "           3       0.51      0.60      0.55        65\n",
      "\n",
      "    accuracy                           0.42       260\n",
      "   macro avg       0.42      0.42      0.41       260\n",
      "weighted avg       0.42      0.42      0.41       260\n",
      "\n"
     ]
    }
   ],
   "source": [
    "# Fast Gradient method attack impact\n",
    "\n",
    "import numpy as np\n",
    "from sklearn.metrics import accuracy_score, confusion_matrix, classification_report\n",
    "import tensorflow as tf\n",
    "import matplotlib.pyplot as plt\n",
    "import seaborn as sns\n",
    "\n",
    "score_org = model.evaluate(\n",
    "    x=test_images,\n",
    "    y=test_labels\n",
    "    )\n",
    "\n",
    "# Predictions on original and adversarial test sets\n",
    "original_predictions = model.predict(test_images)\n",
    "adversarial_predictions = model.predict(x_test_adv)\n",
    "\n",
    "true_labels=test_labels\n",
    "\n",
    "# Print accuracy\n",
    "print(f\"Accuracy on original test set:  {score_org[1]:.2f}\")\n",
    "print(f\"Accuracy on adversarial test set:  {score_adv[1]:.2f}\")\n",
    "\n",
    "print(true_labels.shape, adversarial_predictions.shape)\n",
    "\n",
    "# Convert the probabilities in adversarial_predictions to class labels\n",
    "adversarial_predictions = np.argmax(adversarial_predictions, axis=1)\n",
    "\n",
    "# Calculate and display confusion matrix\n",
    "cm=confusion_matrix(true_labels, adversarial_predictions)\n",
    "\n",
    "# Set the style and context for the plot\n",
    "sns.set_style('whitegrid')  # You can choose 'darkgrid', 'whitegrid', 'dark', 'white', and 'ticks'\n",
    "sns.set_context('talk')     # Other options include 'paper', 'notebook', 'talk', and 'poster'\n",
    "\n",
    "# Plotting the confusion matrix\n",
    "plt.figure(figsize=(10, 8))\n",
    "heatmap = sns.heatmap(cm, annot=True, fmt='d', cmap='Blues', xticklabels=train_class_labels, yticklabels=train_class_labels)\n",
    "\n",
    "# Enhance the appearance of the heatmap\n",
    "heatmap.set_xticklabels(heatmap.get_xmajorticklabels(), fontsize=12)\n",
    "heatmap.set_yticklabels(heatmap.get_ymajorticklabels(), fontsize=12)\n",
    "\n",
    "plt.xlabel('Predicted Label', labelpad=12, fontsize=14)\n",
    "plt.ylabel('True Label', labelpad=12, fontsize=14)\n",
    "plt.title('Confusion Matrix FGSM', pad=20, fontsize=16)\n",
    "\n",
    "plt.show()\n",
    "\n",
    "#classification report\n",
    "print(\"Classificaiton Report:\")\n",
    "print(classification_report(true_labels, adversarial_predictions))"
   ]
  },
  {
   "cell_type": "code",
   "execution_count": 6,
   "id": "89b20381-b4bd-44f6-bc21-31b5e7f4a05b",
   "metadata": {},
   "outputs": [],
   "source": [
    "from tensorflow.keras import backend as K\n",
    "\n",
    "# Clearing the TensorFlow backend\n",
    "K.clear_session()\n"
   ]
  },
  {
   "cell_type": "code",
   "execution_count": 7,
   "id": "8b913073-83ea-4aff-a5de-cc00eac1f974",
   "metadata": {},
   "outputs": [],
   "source": [
    "#================================================================================================================#\n",
    "#PGD Attack"
   ]
  },
  {
   "cell_type": "code",
   "execution_count": 8,
   "id": "2076f4c3-aba3-47ca-909a-209f7f32ed18",
   "metadata": {
    "tags": []
   },
   "outputs": [
    {
     "name": "stdout",
     "output_type": "stream",
     "text": [
      "Model: \"sequential_2\"\n",
      "_________________________________________________________________\n",
      " Layer (type)                Output Shape              Param #   \n",
      "=================================================================\n",
      " conv2d (Conv2D)             (None, 224, 224, 32)      896       \n",
      "                                                                 \n",
      " max_pooling2d_2 (MaxPoolin  (None, 112, 112, 32)      0         \n",
      " g2D)                                                            \n",
      "                                                                 \n",
      " dropout_1 (Dropout)         (None, 112, 112, 32)      0         \n",
      "                                                                 \n",
      " conv2d_1 (Conv2D)           (None, 112, 112, 64)      18496     \n",
      "                                                                 \n",
      " max_pooling2d_3 (MaxPoolin  (None, 56, 56, 64)        0         \n",
      " g2D)                                                            \n",
      "                                                                 \n",
      " dropout_2 (Dropout)         (None, 56, 56, 64)        0         \n",
      "                                                                 \n",
      " conv2d_2 (Conv2D)           (None, 56, 56, 128)       73856     \n",
      "                                                                 \n",
      " max_pooling2d_4 (MaxPoolin  (None, 28, 28, 128)       0         \n",
      " g2D)                                                            \n",
      "                                                                 \n",
      " dropout_3 (Dropout)         (None, 28, 28, 128)       0         \n",
      "                                                                 \n",
      " flatten_2 (Flatten)         (None, 100352)            0         \n",
      "                                                                 \n",
      " dense_4 (Dense)             (None, 128)               12845184  \n",
      "                                                                 \n",
      " dropout_4 (Dropout)         (None, 128)               0         \n",
      "                                                                 \n",
      " dense_5 (Dense)             (None, 4)                 516       \n",
      "                                                                 \n",
      "=================================================================\n",
      "Total params: 12938948 (49.36 MB)\n",
      "Trainable params: 12938948 (49.36 MB)\n",
      "Non-trainable params: 0 (0.00 Byte)\n",
      "_________________________________________________________________\n"
     ]
    }
   ],
   "source": [
    "# Load pretrained model\n",
    "model = load_model('PlayingCard.h5')\n",
    "\n",
    "model.summary()"
   ]
  },
  {
   "cell_type": "code",
   "execution_count": 9,
   "id": "5e6ea93c-b681-45e8-ba5d-77cedbebc2ad",
   "metadata": {
    "tags": []
   },
   "outputs": [
    {
     "name": "stderr",
     "output_type": "stream",
     "text": [
      "C:\\Users\\alec\\miniconda3\\envs\\jupyterenv\\Lib\\site-packages\\keras\\src\\engine\\training_v1.py:2359: UserWarning: `Model.state_updates` will be removed in a future version. This property should not be used in TensorFlow 2.0, as `updates` are applied automatically.\n",
      "  updates=self.state_updates,\n"
     ]
    },
    {
     "data": {
      "application/vnd.jupyter.widget-view+json": {
       "model_id": "8894afd3f80948c38d843d52aba3a725",
       "version_major": 2,
       "version_minor": 0
      },
      "text/plain": [
       "PGD - Random Initializations:   0%|          | 0/1 [00:00<?, ?it/s]"
      ]
     },
     "metadata": {},
     "output_type": "display_data"
    },
    {
     "data": {
      "application/vnd.jupyter.widget-view+json": {
       "model_id": "",
       "version_major": 2,
       "version_minor": 0
      },
      "text/plain": [
       "PGD - Iterations:   0%|          | 0/10 [00:00<?, ?it/s]"
      ]
     },
     "metadata": {},
     "output_type": "display_data"
    },
    {
     "data": {
      "application/vnd.jupyter.widget-view+json": {
       "model_id": "c28494a57d754833a34e905ccf416cc1",
       "version_major": 2,
       "version_minor": 0
      },
      "text/plain": [
       "PGD - Random Initializations:   0%|          | 0/1 [00:00<?, ?it/s]"
      ]
     },
     "metadata": {},
     "output_type": "display_data"
    },
    {
     "data": {
      "application/vnd.jupyter.widget-view+json": {
       "model_id": "",
       "version_major": 2,
       "version_minor": 0
      },
      "text/plain": [
       "PGD - Iterations:   0%|          | 0/10 [00:00<?, ?it/s]"
      ]
     },
     "metadata": {},
     "output_type": "display_data"
    },
    {
     "data": {
      "application/vnd.jupyter.widget-view+json": {
       "model_id": "b54eaf8c465f4bfaab1e5906de3dd5f4",
       "version_major": 2,
       "version_minor": 0
      },
      "text/plain": [
       "PGD - Random Initializations:   0%|          | 0/1 [00:00<?, ?it/s]"
      ]
     },
     "metadata": {},
     "output_type": "display_data"
    },
    {
     "data": {
      "application/vnd.jupyter.widget-view+json": {
       "model_id": "",
       "version_major": 2,
       "version_minor": 0
      },
      "text/plain": [
       "PGD - Iterations:   0%|          | 0/10 [00:00<?, ?it/s]"
      ]
     },
     "metadata": {},
     "output_type": "display_data"
    },
    {
     "data": {
      "application/vnd.jupyter.widget-view+json": {
       "model_id": "e9366bd93b5540a6a325f06145974120",
       "version_major": 2,
       "version_minor": 0
      },
      "text/plain": [
       "PGD - Random Initializations:   0%|          | 0/1 [00:00<?, ?it/s]"
      ]
     },
     "metadata": {},
     "output_type": "display_data"
    },
    {
     "data": {
      "application/vnd.jupyter.widget-view+json": {
       "model_id": "",
       "version_major": 2,
       "version_minor": 0
      },
      "text/plain": [
       "PGD - Iterations:   0%|          | 0/10 [00:00<?, ?it/s]"
      ]
     },
     "metadata": {},
     "output_type": "display_data"
    },
    {
     "data": {
      "application/vnd.jupyter.widget-view+json": {
       "model_id": "7c37cfdd6bd145f49203ba5a88140ee8",
       "version_major": 2,
       "version_minor": 0
      },
      "text/plain": [
       "PGD - Random Initializations:   0%|          | 0/1 [00:00<?, ?it/s]"
      ]
     },
     "metadata": {},
     "output_type": "display_data"
    },
    {
     "data": {
      "application/vnd.jupyter.widget-view+json": {
       "model_id": "",
       "version_major": 2,
       "version_minor": 0
      },
      "text/plain": [
       "PGD - Iterations:   0%|          | 0/10 [00:00<?, ?it/s]"
      ]
     },
     "metadata": {},
     "output_type": "display_data"
    },
    {
     "data": {
      "application/vnd.jupyter.widget-view+json": {
       "model_id": "a257994998fa4e398ee7c03de780978e",
       "version_major": 2,
       "version_minor": 0
      },
      "text/plain": [
       "PGD - Random Initializations:   0%|          | 0/1 [00:00<?, ?it/s]"
      ]
     },
     "metadata": {},
     "output_type": "display_data"
    },
    {
     "data": {
      "application/vnd.jupyter.widget-view+json": {
       "model_id": "",
       "version_major": 2,
       "version_minor": 0
      },
      "text/plain": [
       "PGD - Iterations:   0%|          | 0/10 [00:00<?, ?it/s]"
      ]
     },
     "metadata": {},
     "output_type": "display_data"
    },
    {
     "data": {
      "application/vnd.jupyter.widget-view+json": {
       "model_id": "b8894461673347a88869f58b8363d7d0",
       "version_major": 2,
       "version_minor": 0
      },
      "text/plain": [
       "PGD - Random Initializations:   0%|          | 0/1 [00:00<?, ?it/s]"
      ]
     },
     "metadata": {},
     "output_type": "display_data"
    },
    {
     "data": {
      "application/vnd.jupyter.widget-view+json": {
       "model_id": "",
       "version_major": 2,
       "version_minor": 0
      },
      "text/plain": [
       "PGD - Iterations:   0%|          | 0/10 [00:00<?, ?it/s]"
      ]
     },
     "metadata": {},
     "output_type": "display_data"
    },
    {
     "data": {
      "application/vnd.jupyter.widget-view+json": {
       "model_id": "171d19c00c894f86aaf42e3397d7a3de",
       "version_major": 2,
       "version_minor": 0
      },
      "text/plain": [
       "PGD - Random Initializations:   0%|          | 0/1 [00:00<?, ?it/s]"
      ]
     },
     "metadata": {},
     "output_type": "display_data"
    },
    {
     "data": {
      "application/vnd.jupyter.widget-view+json": {
       "model_id": "",
       "version_major": 2,
       "version_minor": 0
      },
      "text/plain": [
       "PGD - Iterations:   0%|          | 0/10 [00:00<?, ?it/s]"
      ]
     },
     "metadata": {},
     "output_type": "display_data"
    },
    {
     "data": {
      "application/vnd.jupyter.widget-view+json": {
       "model_id": "f1bd4dcc2e60491eb4a94434b56e920d",
       "version_major": 2,
       "version_minor": 0
      },
      "text/plain": [
       "PGD - Random Initializations:   0%|          | 0/1 [00:00<?, ?it/s]"
      ]
     },
     "metadata": {},
     "output_type": "display_data"
    },
    {
     "data": {
      "application/vnd.jupyter.widget-view+json": {
       "model_id": "",
       "version_major": 2,
       "version_minor": 0
      },
      "text/plain": [
       "PGD - Iterations:   0%|          | 0/10 [00:00<?, ?it/s]"
      ]
     },
     "metadata": {},
     "output_type": "display_data"
    },
    {
     "name": "stderr",
     "output_type": "stream",
     "text": [
      "C:\\Users\\alec\\miniconda3\\envs\\jupyterenv\\Lib\\site-packages\\keras\\src\\engine\\training_v1.py:2335: UserWarning: `Model.state_updates` will be removed in a future version. This property should not be used in TensorFlow 2.0, as `updates` are applied automatically.\n",
      "  updates = self.state_updates\n"
     ]
    }
   ],
   "source": [
    "# PGD attack\n",
    "\n",
    "classifier = KerasClassifier(model=model, clip_values=(0, 1), use_logits=False)\n",
    "attack = ProjectedGradientDescent(estimator=classifier, eps=0.1, max_iter=10, eps_step=0.01)\n",
    "x_test_adv_pgd = attack.generate(x=test_images)\n",
    "score_adv_pgd = model.evaluate(x=x_test_adv_pgd, y=test_labels)"
   ]
  },
  {
   "cell_type": "code",
   "execution_count": 10,
   "id": "1dfe952b-3d12-44ec-b148-a941c06d20dd",
   "metadata": {
    "tags": []
   },
   "outputs": [
    {
     "name": "stdout",
     "output_type": "stream",
     "text": [
      "Accuracy on original test set:  0.96\n",
      "Accuracy on adversarial test set:  0.17\n",
      "(260,) (260, 4)\n"
     ]
    },
    {
     "data": {
      "image/png": "[encoded data removed]",
      "text/plain": [
       "<Figure size 1000x800 with 2 Axes>"
      ]
     },
     "metadata": {},
     "output_type": "display_data"
    },
    {
     "name": "stdout",
     "output_type": "stream",
     "text": [
      "Classificaiton Report:\n",
      "              precision    recall  f1-score   support\n",
      "\n",
      "           0       0.11      0.14      0.12        65\n",
      "           1       0.02      0.02      0.02        65\n",
      "           2       0.18      0.09      0.12        65\n",
      "           3       0.30      0.43      0.36        65\n",
      "\n",
      "    accuracy                           0.17       260\n",
      "   macro avg       0.15      0.17      0.15       260\n",
      "weighted avg       0.15      0.17      0.15       260\n",
      "\n"
     ]
    }
   ],
   "source": [
    "# PGD method attack impact\n",
    "\n",
    "import numpy as np\n",
    "from sklearn.metrics import accuracy_score, confusion_matrix, classification_report\n",
    "import tensorflow as tf\n",
    "import matplotlib.pyplot as plt\n",
    "import seaborn as sns\n",
    "\n",
    "score_org = model.evaluate(\n",
    "    x=test_images,\n",
    "    y=test_labels\n",
    "    )\n",
    "\n",
    "score_adv = model.evaluate(\n",
    "    x=x_test_adv_pgd,\n",
    "    y=test_labels\n",
    "    )\n",
    "\n",
    "# Predictions on original and adversarial test sets\n",
    "original_predictions = model.predict(test_images)\n",
    "adversarial_predictions = model.predict(x_test_adv_pgd)\n",
    "\n",
    "true_labels=test_labels\n",
    "\n",
    "# Print accuracy\n",
    "print(f\"Accuracy on original test set:  {score_org[1]:.2f}\")\n",
    "print(f\"Accuracy on adversarial test set:  {score_adv[1]:.2f}\")\n",
    "\n",
    "print(true_labels.shape, adversarial_predictions.shape)\n",
    "\n",
    "# Convert the probabilities in adversarial_predictions to class labels\n",
    "adversarial_predictions = np.argmax(adversarial_predictions, axis=1)\n",
    "\n",
    "# Calculate and display confusion matrix\n",
    "cm=confusion_matrix(true_labels, adversarial_predictions)\n",
    "\n",
    "# Set the style and context for the plot\n",
    "sns.set_style('whitegrid')  # You can choose 'darkgrid', 'whitegrid', 'dark', 'white', and 'ticks'\n",
    "sns.set_context('talk')     # Other options include 'paper', 'notebook', 'talk', and 'poster'\n",
    "\n",
    "# Plotting the confusion matrix\n",
    "plt.figure(figsize=(10, 8))\n",
    "heatmap = sns.heatmap(cm, annot=True, fmt='d', cmap='Blues', xticklabels=train_class_labels, yticklabels=train_class_labels)\n",
    "\n",
    "# Enhance the appearance of the heatmap\n",
    "heatmap.set_xticklabels(heatmap.get_xmajorticklabels(), fontsize=12)\n",
    "heatmap.set_yticklabels(heatmap.get_ymajorticklabels(), fontsize=12)\n",
    "\n",
    "plt.xlabel('Predicted Label', labelpad=12, fontsize=14)\n",
    "plt.ylabel('True Label', labelpad=12, fontsize=14)\n",
    "plt.title('Confusion Matrix PGD', pad=20, fontsize=16)\n",
    "\n",
    "plt.show()\n",
    "\n",
    "#classification report\n",
    "print(\"Classificaiton Report:\")\n",
    "print(classification_report(true_labels, adversarial_predictions))"
   ]
  },
  {
   "cell_type": "code",
   "execution_count": 11,
   "id": "be9c99fb-35b6-4eea-a63a-f24cb18b00e3",
   "metadata": {
    "tags": []
   },
   "outputs": [],
   "source": [
    "from tensorflow.keras import backend as K\n",
    "\n",
    "# Clearing the TensorFlow backend\n",
    "K.clear_session()\n"
   ]
  },
  {
   "cell_type": "code",
   "execution_count": 12,
   "id": "adcbf181-f11f-4ce4-bee0-d63b2bfc39df",
   "metadata": {},
   "outputs": [],
   "source": [
    "#========================================================================================\n",
    "# Carlini L2 Method attack"
   ]
  },
  {
   "cell_type": "code",
   "execution_count": 13,
   "id": "abd4b6a2-9b22-4798-aa4e-c3e243fecd1d",
   "metadata": {
    "tags": []
   },
   "outputs": [],
   "source": [
    "model = load_model(\"PlayingCard.h5\")"
   ]
  },
  {
   "cell_type": "code",
   "execution_count": 16,
   "id": "372abd8e-c782-4d49-9e20-fb91895216bf",
   "metadata": {},
   "outputs": [
    {
     "data": {
      "application/vnd.jupyter.widget-view+json": {
       "model_id": "e286e352b0564e70a7cc36bed8f62201",
       "version_major": 2,
       "version_minor": 0
      },
      "text/plain": [
       "C&W L_2:   0%|          | 0/260 [00:00<?, ?it/s]"
      ]
     },
     "metadata": {},
     "output_type": "display_data"
    }
   ],
   "source": [
    "\n",
    "\n",
    "classifier = KerasClassifier(model=model, clip_values=(0, 1))\n",
    "\n",
    "# Carlini & Wagner L2 attack initialization\n",
    "attack = CarliniL2Method(classifier=classifier, \n",
    "                         confidence=0.0,                                # Confidence of adversarial examples: a higher value produces examples that are farther away from the decision boundary of the model, but more likely to be classified as a specific target class.\n",
    "                         targeted=False,                               # Non-targeted attack\n",
    "                         learning_rate=0.1,                                 # The learning rate for the attack algorithm. Smaller values produce better results but take longer to converge.\n",
    "                         max_iter=2,                                       # The maximum number of iterations. More iterations produce better results but take longer to run.\n",
    "                         binary_search_steps=10,                         # The number of search steps to perform binary search over the const c.\n",
    "                         batch_size=1)                                     # The size of the batch on which adversarial samples are generated.\n",
    "           \n",
    "# Generate adversarial examples\n",
    "x_test_adv = attack.generate(x=test_images)\n",
    "\n",
    "\n"
   ]
  },
  {
   "cell_type": "code",
   "execution_count": 17,
   "id": "755e5819-9ff4-402d-8ad1-18eed72b3a9b",
   "metadata": {
    "tags": []
   },
   "outputs": [
    {
     "name": "stdout",
     "output_type": "stream",
     "text": [
      "Accuracy on original test set:  0.96\n",
      "Accuracy on adversarial test set:  0.88\n",
      "(260,) (260, 4)\n"
     ]
    },
    {
     "data": {
      "image/png": "[encoded data removed]",
      "text/plain": [
       "<Figure size 1000x800 with 2 Axes>"
      ]
     },
     "metadata": {},
     "output_type": "display_data"
    },
    {
     "name": "stdout",
     "output_type": "stream",
     "text": [
      "Classificaiton Report:\n",
      "              precision    recall  f1-score   support\n",
      "\n",
      "           0       0.84      0.88      0.86        65\n",
      "           1       0.89      0.86      0.88        65\n",
      "           2       0.88      0.92      0.90        65\n",
      "           3       0.92      0.86      0.89        65\n",
      "\n",
      "    accuracy                           0.88       260\n",
      "   macro avg       0.88      0.88      0.88       260\n",
      "weighted avg       0.88      0.88      0.88       260\n",
      "\n"
     ]
    }
   ],
   "source": [
    "# C&W attack impact\n",
    "\n",
    "import numpy as np\n",
    "from sklearn.metrics import accuracy_score, confusion_matrix, classification_report\n",
    "import tensorflow as tf\n",
    "import matplotlib.pyplot as plt\n",
    "import seaborn as sns\n",
    "\n",
    "score_org = model.evaluate(\n",
    "    x=test_images,\n",
    "    y=test_labels\n",
    "    )\n",
    "\n",
    "score_adv = model.evaluate(\n",
    "    x=x_test_adv,\n",
    "    y=test_labels\n",
    "    )\n",
    "\n",
    "# Predictions on original and adversarial test sets\n",
    "original_predictions = model.predict(test_images)\n",
    "adversarial_predictions = model.predict(x_test_adv)\n",
    "\n",
    "true_labels=test_labels\n",
    "\n",
    "# Print accuracy\n",
    "print(f\"Accuracy on original test set:  {score_org[1]:.2f}\")\n",
    "print(f\"Accuracy on adversarial test set:  {score_adv[1]:.2f}\")\n",
    "\n",
    "print(true_labels.shape, adversarial_predictions.shape)\n",
    "\n",
    "# Convert the probabilities in adversarial_predictions to class labels\n",
    "adversarial_predictions = np.argmax(adversarial_predictions, axis=1)\n",
    "\n",
    "# Calculate and display confusion matrix\n",
    "cm=confusion_matrix(true_labels, adversarial_predictions)\n",
    "\n",
    "# Set the style and context for the plot\n",
    "sns.set_style('whitegrid')  # You can choose 'darkgrid', 'whitegrid', 'dark', 'white', and 'ticks'\n",
    "sns.set_context('talk')     # Other options include 'paper', 'notebook', 'talk', and 'poster'\n",
    "\n",
    "# Plotting the confusion matrix\n",
    "plt.figure(figsize=(10, 8))\n",
    "heatmap = sns.heatmap(cm, annot=True, fmt='d', cmap='Blues', xticklabels=train_class_labels, yticklabels=train_class_labels)\n",
    "\n",
    "# Enhance the appearance of the heatmap\n",
    "heatmap.set_xticklabels(heatmap.get_xmajorticklabels(), fontsize=12)\n",
    "heatmap.set_yticklabels(heatmap.get_ymajorticklabels(), fontsize=12)\n",
    "\n",
    "plt.xlabel('Predicted Label', labelpad=12, fontsize=14)\n",
    "plt.ylabel('True Label', labelpad=12, fontsize=14)\n",
    "plt.title('Confusion Matrix PGD', pad=20, fontsize=16)\n",
    "\n",
    "plt.show()\n",
    "\n",
    "#classification report\n",
    "print(\"Classificaiton Report:\")\n",
    "print(classification_report(true_labels, adversarial_predictions))"
   ]
  },
  {
   "cell_type": "code",
   "execution_count": null,
   "id": "a04b4ab5-0327-46fa-95f4-32faf5474e96",
   "metadata": {},
   "outputs": [],
   "source": []
  }
 ],
 "metadata": {
  "kernelspec": {
   "display_name": "Python 3 (ipykernel)",
   "language": "python",
   "name": "python3"
  },
  "language_info": {
   "codemirror_mode": {
    "name": "ipython",
    "version": 3
   },
   "file_extension": ".py",
   "mimetype": "text/x-python",
   "name": "python",
   "nbconvert_exporter": "python",
   "pygments_lexer": "ipython3",
   "version": "3.11.5"
  }
 },
 "nbformat": 4,
 "nbformat_minor": 5
}
